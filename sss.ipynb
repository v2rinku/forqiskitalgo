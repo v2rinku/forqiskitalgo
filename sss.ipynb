{
  "nbformat": 4,
  "nbformat_minor": 0,
  "metadata": {
    "colab": {
      "provenance": [],
      "authorship_tag": "ABX9TyOXkEWdToLozCMI3v5rFFUd",
      "include_colab_link": true
    },
    "kernelspec": {
      "name": "python3",
      "display_name": "Python 3"
    },
    "language_info": {
      "name": "python"
    }
  },
  "cells": [
    {
      "cell_type": "markdown",
      "metadata": {
        "id": "view-in-github",
        "colab_type": "text"
      },
      "source": [
        "<a href=\"https://colab.research.google.com/github/v2rinku/forqiskitalgo/blob/main/sss.ipynb\" target=\"_parent\"><img src=\"https://colab.research.google.com/assets/colab-badge.svg\" alt=\"Open In Colab\"/></a>"
      ]
    },
    {
      "cell_type": "code",
      "execution_count": null,
      "metadata": {
        "id": "pbs1c0rrshmW"
      },
      "outputs": [],
      "source": []
    },
    {
      "cell_type": "markdown",
      "source": [
        "\n",
        "##  Using Google Colab\n",
        "\n",
        "Google Colab is a free cloud-based Jupyter notebook environment that allows you to write and execute Python in your browser with zero configuration and free access to GPUs.\n",
        "\n",
        "**Watch this 2.3-minute guide:**  \n",
        "[How to Use Google Colab - YouTube](https://www.youtube.com/watch?v=6Egd-OMLLV4)\n",
        "\n",
        "**Description:**  \n",
        "This quick video walks you through the basics of using Google Colab, including how to create, edit, and run notebooks—all without any setup.\n",
        "\n",
        ""
      ],
      "metadata": {
        "id": "fZP6s_NFsiWW"
      }
    }
  ]
}