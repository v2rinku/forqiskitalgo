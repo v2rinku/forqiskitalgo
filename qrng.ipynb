{
  "nbformat": 4,
  "nbformat_minor": 0,
  "metadata": {
    "colab": {
      "provenance": [],
      "authorship_tag": "ABX9TyMo2FEzZlVI5uWA2JERw1Ib",
      "include_colab_link": true
    },
    "kernelspec": {
      "name": "python3",
      "display_name": "Python 3"
    },
    "language_info": {
      "name": "python"
    }
  },
  "cells": [
    {
      "cell_type": "markdown",
      "metadata": {
        "id": "view-in-github",
        "colab_type": "text"
      },
      "source": [
        "<a href=\"https://colab.research.google.com/github/v2rinku/forqiskitalgo/blob/main/qrng.ipynb\" target=\"_parent\"><img src=\"https://colab.research.google.com/assets/colab-badge.svg\" alt=\"Open In Colab\"/></a>"
      ]
    },
    {
      "cell_type": "markdown",
      "source": [
        "## 🧪 Quantum Random Number Generator (QRNG) with Qiskit\n",
        "\n",
        "###  What is a QRNG?\n",
        "\n",
        "A **Quantum Random Number Generator (QRNG)** uses the fundamental **uncertainty** in quantum mechanics to generate **true randomness** — unlike classical algorithms, which are deterministic or pseudo-random.\n",
        "\n",
        "At its core, QRNG works by:\n",
        "- Putting a qubit in a **superposition** using a **Hadamard gate**, giving it an equal chance of being measured as `0` or `1`.\n",
        "- **Measuring** the qubit causes it to collapse randomly into one of those two states.\n",
        "- Repeating this process many times gives you a sequence of random bits.\n",
        "\n",
        "---\n",
        "\n",
        "## 🛠️ Requirements\n",
        "\n",
        "Make sure you have the latest versions of Qiskit and Qiskit Aer:\n",
        "\n",
        "```bash\n",
        "pip install qiskit qiskit-aer\n",
        "```\n",
        "\n",
        "---\n"
      ],
      "metadata": {
        "id": "WZXFNgTT07Ze"
      }
    },
    {
      "cell_type": "code",
      "source": [
        "from qiskit import QuantumCircuit\n",
        "from qiskit_aer.primitives import Sampler\n",
        "\n",
        "def quantum_random_bits(num_bits=8):\n",
        "    sampler = Sampler()\n",
        "    random_bits = \"\"\n",
        "\n",
        "    for _ in range(num_bits):\n",
        "        # Create a 1-qubit quantum circuit\n",
        "        qc = QuantumCircuit(1)\n",
        "        qc.h(0)          # Hadamard gate to create superposition\n",
        "        qc.measure_all() # Measure the qubit\n",
        "\n",
        "        # Use the Sampler primitive to get a sample\n",
        "        result = sampler.run(qc, shots=1).result()\n",
        "        bit = list(result.quasi_dists[0].keys())[0]  # Get the bit ('0' or '1')\n",
        "        random_bits += str(bit)\n",
        "\n",
        "    return random_bits\n",
        "\n",
        "# Generate and print 16 random bits\n",
        "print(\"Quantum Random Bits:\", quantum_random_bits(16))\n"
      ],
      "metadata": {
        "colab": {
          "base_uri": "https://localhost:8080/"
        },
        "id": "lvlTFWcAz4Y9",
        "outputId": "9ba37572-5cba-416e-dfa3-e524f43187df"
      },
      "execution_count": 10,
      "outputs": [
        {
          "output_type": "stream",
          "name": "stdout",
          "text": [
            "Quantum Random Bits: 0011010101000010\n"
          ]
        },
        {
          "output_type": "stream",
          "name": "stderr",
          "text": [
            "<ipython-input-10-b782db212b72>:22: DeprecationWarning: Sampler has been deprecated as of Aer 0.15, please use SamplerV2 instead.\n",
            "  print(\"Quantum Random Bits:\", quantum_random_bits(16))\n"
          ]
        }
      ]
    },
    {
      "cell_type": "markdown",
      "source": [
        "\n",
        "## 🧠 How It Works\n",
        "\n",
        "| Step | Description |\n",
        "|------|-------------|\n",
        "| 1️⃣ | **Create a 1-qubit quantum circuit** |\n",
        "| 2️⃣ | Apply a **Hadamard gate** (`H`) to place the qubit in a 50/50 superposition of `|0⟩` and `|1⟩` |\n",
        "| 3️⃣ | Measure the qubit — the result collapses randomly to `0` or `1` |\n",
        "| 4️⃣ | Repeat for as many bits as needed |\n",
        "\n"
      ],
      "metadata": {
        "id": "imoSYOZS1czm"
      }
    },
    {
      "cell_type": "markdown",
      "source": [
        "##  Optional: Visualize Bit Distribution\n",
        "\n"
      ],
      "metadata": {
        "id": "iH1FJKIf1eOg"
      }
    },
    {
      "cell_type": "code",
      "source": [
        "from collections import Counter\n",
        "import matplotlib.pyplot as plt\n",
        "\n",
        "# Generate 1000 random bits\n",
        "bits = quantum_random_bits(1000)\n",
        "\n",
        "# Count frequency of 0s and 1s\n",
        "bit_counts = Counter(bits)\n",
        "\n",
        "# Plot\n",
        "plt.bar(bit_counts.keys(), bit_counts.values())\n",
        "plt.title(\"Quantum Random Bit Distribution\")\n",
        "plt.xlabel(\"Bit Value\")\n",
        "plt.ylabel(\"Frequency\")\n",
        "plt.grid(True)\n",
        "plt.show()\n"
      ],
      "metadata": {
        "colab": {
          "base_uri": "https://localhost:8080/",
          "height": 508
        },
        "id": "wi2WQzAC1rxd",
        "outputId": "28ccce5f-4653-40ba-d061-fba406848d5e"
      },
      "execution_count": 9,
      "outputs": [
        {
          "output_type": "stream",
          "name": "stderr",
          "text": [
            "<ipython-input-9-201a0a648162>:5: DeprecationWarning: Sampler has been deprecated as of Aer 0.15, please use SamplerV2 instead.\n",
            "  bits = quantum_random_bits(1000)\n"
          ]
        },
        {
          "output_type": "display_data",
          "data": {
            "text/plain": [
              "<Figure size 640x480 with 1 Axes>"
            ],
            "image/png": "[encoded data removed]"
          },
          "metadata": {}
        }
      ]
    },
    {
      "cell_type": "markdown",
      "source": [
        "## 🧬 Why Quantum Randomness?\n",
        "\n",
        "- **Classical RNGs** often rely on deterministic processes and are only pseudo-random.\n",
        "- **Quantum mechanics** guarantees that certain outcomes are truly unpredictable — making QRNGs great for cryptography, simulations, and secure applications.\n",
        "\n",
        "---\n"
      ],
      "metadata": {
        "id": "BdDSsN7Z12Gn"
      }
    },
    {
      "cell_type": "markdown",
      "source": [],
      "metadata": {
        "id": "B07qyDwh14_q"
      }
    }
  ]
}